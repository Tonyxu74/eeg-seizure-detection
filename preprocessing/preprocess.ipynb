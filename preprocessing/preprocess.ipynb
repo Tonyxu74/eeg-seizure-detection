{
 "cells": [
  {
   "cell_type": "code",
   "execution_count": 6,
   "metadata": {},
   "outputs": [],
   "source": [
    "import os\n",
    "import nedc_pystream"
   ]
  },
  {
   "cell_type": "code",
   "execution_count": null,
   "metadata": {},
   "outputs": [],
   "source": [
    "def load_edf(param_path, edf_path):\n",
    "    \"\"\"Loads an EDF file given a path to the EDF file as well as the specifying parameter file path.\"\"\"\n",
    "    # loads the parameter file\n",
    "    params = nedc_pystream.nedc_load_parameters(param_path)\n",
    "    if params == None:\n",
    "        print(\"(%s: %s) error loading parameters\" %\n",
    "              (sys.argv[0], __name__))\n",
    "        exit(-1)\n",
    "\n",
    "    # loads the Edf into memory\n",
    "    fsamp, sig, labels = nedc_pystream.nedc_load_edf(edf_path)\n",
    "\n",
    "    # select channels from parameter file\n",
    "    fsamp_sel, sig_sel, labels_sel = nedc_pystream.nedc_select_channels(params, fsamp, sig, labels)\n",
    "\n",
    "    # apply a montage\n",
    "    fsamp_mont, sig_mont, labels_mont = nedc_pystream.nedc_apply_montage(\n",
    "        params, fsamp_sel, sig_sel, labels_sel\n",
    "    )\n",
    "\n",
    "    # print the values to stdout\n",
    "    return (fsamp_mont, sig_mont, labels_mont)"
   ]
  },
  {
   "cell_type": "code",
   "execution_count": null,
   "metadata": {},
   "outputs": [],
   "source": [
    "# Load parameters\n",
    "tcp_ar = nedc_pystream.nedc_load_parameters(\"./parameter_files/params_01_tcp_ar.txt\")\n",
    "tcp_le = nedc_pystream.nedc_load_parameters(\"./parameter_files/params_02_tcp_le.txt\")\n",
    "tcp_ar_a = nedc_pystream.nedc_load_parameters(\"./parameter_files/params_03_tcp_ar_a.txt\")"
   ]
  },
  {
   "cell_type": "code",
   "execution_count": 5,
   "metadata": {},
   "outputs": [
    {
     "ename": "TypeError",
     "evalue": "nedc_load_parameters() missing 1 required positional argument: 'pfile_a'",
     "output_type": "error",
     "traceback": [
      "\u001b[0;31m---------------------------------------------------------------------------\u001b[0m",
      "\u001b[0;31mTypeError\u001b[0m                                 Traceback (most recent call last)",
      "\u001b[0;32m<ipython-input-5-8cf73e618412>\u001b[0m in \u001b[0;36m<module>\u001b[0;34m\u001b[0m\n\u001b[0;32m----> 1\u001b[0;31m \u001b[0mnedc_pystream\u001b[0m\u001b[0;34m.\u001b[0m\u001b[0mnedc_load_parameters\u001b[0m\u001b[0;34m(\u001b[0m\u001b[0;34m)\u001b[0m\u001b[0;34m\u001b[0m\u001b[0;34m\u001b[0m\u001b[0m\n\u001b[0m",
      "\u001b[0;31mTypeError\u001b[0m: nedc_load_parameters() missing 1 required positional argument: 'pfile_a'"
     ]
    }
   ],
   "source": [
    "for file:\n",
    "    nedc_pystream.load_edf()"
   ]
  }
 ],
 "metadata": {
  "kernelspec": {
   "display_name": "Python 3",
   "language": "python",
   "name": "python3"
  },
  "language_info": {
   "codemirror_mode": {
    "name": "ipython",
    "version": 3
   },
   "file_extension": ".py",
   "mimetype": "text/x-python",
   "name": "python",
   "nbconvert_exporter": "python",
   "pygments_lexer": "ipython3",
   "version": "3.7.1"
  }
 },
 "nbformat": 4,
 "nbformat_minor": 2
}
